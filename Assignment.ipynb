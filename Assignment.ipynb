{
 "cells": [
  {
   "cell_type": "code",
   "execution_count": 1,
   "id": "4bcb2dab-6558-4dfc-99da-d37e135f8e76",
   "metadata": {},
   "outputs": [],
   "source": [
    "#question 1\n",
    "A = 12\n",
    "B =  [1,2,6,56,45.22,\"Shaury\"]\n",
    "C = 23.23\n",
    "D = (1,3,6,\"ram\")"
   ]
  },
  {
   "cell_type": "raw",
   "id": "3a976efa-0ddf-4839-b03d-eeaeab0d2a45",
   "metadata": {},
   "source": [
    "Question 2\n",
    "(i)--> String\n",
    "(ii)--> String\n",
    "(iii)--> List\n",
    "(iv)--> int"
   ]
  },
  {
   "cell_type": "raw",
   "id": "384a777a-1b7d-475f-8cf4-e8f61cb8773d",
   "metadata": {},
   "source": [
    "Question 3\n",
    "(i)--> use for divide  ex-10/5=2\n",
    "(ii)--> use for modulus ex-9 % 5=4 \n",
    "(iii)-->use for double divide ex-10//2= 5\n",
    "(iv)-->use as power ex-2**5=32"
   ]
  },
  {
   "cell_type": "code",
   "execution_count": 2,
   "id": "55bbb702-a7cb-4c02-8992-1efde18db031",
   "metadata": {},
   "outputs": [
    {
     "name": "stdout",
     "output_type": "stream",
     "text": [
      "12\n",
      "1\n",
      "2\n",
      "5\n",
      "4\n",
      "54\n",
      "shaury\n",
      "rawat\n",
      "45.22\n",
      "55\n"
     ]
    }
   ],
   "source": [
    "#Question 4\n",
    "ak =[12,1,2,5,4,54,\"shaury\",\"rawat\",45.22,55]\n",
    "for i in ak :\n",
    "    print(i)"
   ]
  },
  {
   "cell_type": "code",
   "execution_count": null,
   "id": "ffb2de45-c567-4c85-ad1e-e7324269fc69",
   "metadata": {},
   "outputs": [],
   "source": [
    "#Question 5\n",
    "count = 0\n",
    "A=int(input(\"enter 1st no\")\n",
    "B=int(input(\"enter 2nd no\")\n",
    "while A % B == 0:\n",
    "    A /= B   \n",
    "    count += 1\n",
    "count"
   ]
  },
  {
   "cell_type": "code",
   "execution_count": null,
   "id": "7dfb0afc-2996-4058-80e8-725f92bbe199",
   "metadata": {},
   "outputs": [],
   "source": [
    "#Question 6\n",
    "Q = [1,2,12,45,41,4,5,12,5,42,1,545,84,5,12,5,5,45,2,55,48,78,45,45,33,9,5,45,4]\n",
    "for i in Q:\n",
    "    if i % 3 == 0:\n",
    "        print(i)\n",
    "    else:\n",
    "        print(i)\n"
   ]
  },
  {
   "cell_type": "raw",
   "id": "34543acd-7657-41a0-80a3-dfdeef8a096b",
   "metadata": {},
   "source": [
    "#Question 7\n",
    "mutable->those data type which can not change after declaring\n",
    "         for example -> String \n",
    "                        it can not change A=\"Ram\"\n",
    "                        we can not change Ram once declare             \n",
    "immutable data types ->those data type which can change after   declaring\n",
    "         for example -> List\n",
    "                        it can change A=[1,2,3,4]\n",
    "                        "
   ]
  }
 ],
 "metadata": {
  "kernelspec": {
   "display_name": "Python 3 (ipykernel)",
   "language": "python",
   "name": "python3"
  },
  "language_info": {
   "codemirror_mode": {
    "name": "ipython",
    "version": 3
   },
   "file_extension": ".py",
   "mimetype": "text/x-python",
   "name": "python",
   "nbconvert_exporter": "python",
   "pygments_lexer": "ipython3",
   "version": "3.11.3"
  }
 },
 "nbformat": 4,
 "nbformat_minor": 5
}
